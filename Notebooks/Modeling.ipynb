{
 "cells": [
  {
   "cell_type": "markdown",
   "id": "ee13fef3",
   "metadata": {},
   "source": [
    "# Introduction"
   ]
  },
  {
   "cell_type": "markdown",
   "id": "67040ccf",
   "metadata": {},
   "source": [
    "## Table of Contents\n",
    "- [Import Libraries](#section1)\n",
    "- [Modeling](#section2)\n",
    "    - [Logisitic Regression](#section3)\n",
    "    - [Random Forest](#section4)\n",
    "    - [MLP Classifier](#section5)\n",
    "- [ROC Curves](#section6)"
   ]
  },
  {
   "cell_type": "markdown",
   "id": "aa1aa4bb",
   "metadata": {},
   "source": [
    "### Import Libraries <a name=\"section1\"></a>\n",
    "Import necessary libraries and load dataset via the commentpuller class."
   ]
  },
  {
   "cell_type": "code",
   "execution_count": 1,
   "id": "ab15ea2c",
   "metadata": {},
   "outputs": [],
   "source": [
    "import pandas as pd\n",
    "import numpy as np\n",
    "import matplotlib.pyplot as plt\n",
    "import seaborn as sns\n",
    "from sklearn.model_selection import train_test_split, cross_val_score, GridSearchCV\n",
    "import CommentPull.CommentPuller\n",
    "from sklearn.preprocessing import RobustScaler\n",
    "from sklearn.linear_model import LogisticRegression\n",
    "from sklearn.ensemble import RandomForestClassifier\n",
    "from sklearn.metrics import roc_auc_score, classification_report, confusion_matrix, ConfusionMatrixDisplay\n",
    "from sklearn.neural_network import MLPClassifier"
   ]
  },
  {
   "cell_type": "code",
   "execution_count": 2,
   "id": "011ffb6d",
   "metadata": {},
   "outputs": [],
   "source": [
    "#Make graphs pretty and bigger\n",
    "plt.rcParams['figure.figsize'] = (7, 5)\n",
    "sns.set()\n",
    "#Suppress warnings for prettier output\n",
    "import warnings\n",
    "warnings.filterwarnings(\"ignore\")"
   ]
  },
  {
   "cell_type": "code",
   "execution_count": 3,
   "id": "2f44baa8",
   "metadata": {},
   "outputs": [],
   "source": [
    "#Load data using custom class\n",
    "comment_puller = CommentPull.CommentPuller.CommentPuller(load=True)"
   ]
  },
  {
   "cell_type": "markdown",
   "id": "c6731e85",
   "metadata": {},
   "source": [
    "### Modeling <a name=\"section2\"></a>\n",
    "In this section, the data is split into training a testing sets and scaled with the RobustScaler. This data is then used to train three models: Logisitic Regression, Random Forest Classifier and MLP Classifier. These steps are carried out for both the title data and the text data. ROC_AUC is the metric of choice for this analysis because there are so many more assholes than non-assholes, the accuracy score becomes misleading. ROC_AUC gives the best score for how well the model is doing."
   ]
  },
  {
   "cell_type": "code",
   "execution_count": 4,
   "id": "54f46d1e",
   "metadata": {},
   "outputs": [],
   "source": [
    "#Split title data\n",
    "X_title = comment_puller.title_df.drop(['label_id', 'post_id'], axis=1)\n",
    "y_title = comment_puller.title_df['label_id']\n",
    "X_title_train, X_title_test, y_title_train, y_title_test = train_test_split(X_title, y_title,\n",
    "                                                                           test_size=0.15, random_state=10)\n",
    "#Scale training data\n",
    "title_scaler = RobustScaler()\n",
    "X_title_train = title_scaler.fit_transform(X_title_train)\n",
    "\n",
    "#Scale test data in same manner\n",
    "X_title_test = title_scaler.transform(X_title_test)"
   ]
  },
  {
   "cell_type": "code",
   "execution_count": 5,
   "id": "00b2985c",
   "metadata": {},
   "outputs": [],
   "source": [
    "#Split text data \n",
    "X_text = comment_puller.text_df.drop(['label_id', 'post_id'], axis=1)\n",
    "y_text = comment_puller.text_df['label_id']\n",
    "X_text_train, X_text_test, y_text_train, y_text_test = train_test_split(X_text, y_text,\n",
    "                                                                           test_size=0.15, random_state=10)\n",
    "#Scale training data\n",
    "text_scaler = RobustScaler()\n",
    "X_text_train = text_scaler.fit_transform(X_text_train)\n",
    "#Scale test data in same manner as training\n",
    "X_text_test = text_scaler.transform(X_text_test)"
   ]
  },
  {
   "cell_type": "markdown",
   "id": "3eabdbc3",
   "metadata": {},
   "source": [
    "#### Logisitic Regression <a name=\"section3\"></a> "
   ]
  },
  {
   "cell_type": "code",
   "execution_count": 6,
   "id": "7a4b0395",
   "metadata": {},
   "outputs": [
    {
     "name": "stdout",
     "output_type": "stream",
     "text": [
      "Best parameter for n_neighbors is {'C': 0.3593813663804626, 'penalty': 'l2'}\n",
      "Scoring 0.6182792536089977\n"
     ]
    }
   ],
   "source": [
    "#Let's begin with a Logisitic Regression Model\n",
    "#Intialize model\n",
    "log_title = LogisticRegression(solver='newton-cg')\n",
    "#Create a parameter grid over which we can gridsearch\n",
    "param_grid ={'C':np.logspace(-4, 4, 10) , 'penalty':['l1', 'l2']}\n",
    "#Intialize a gridsearch object\n",
    "log_title_gs = GridSearchCV(log_title, param_grid, cv=5, scoring='roc_auc')\n",
    "#Fit the gridsearch object\n",
    "log_title_gs.fit(X_title_train, y_title_train)\n",
    "#Print out best hyperparameters\n",
    "print('Best parameter for n_neighbors is {}'.format(log_title_gs.best_params_))\n",
    "print('Scoring {}'.format(log_title_gs.best_score_))"
   ]
  },
  {
   "cell_type": "code",
   "execution_count": 7,
   "id": "f6273a5e",
   "metadata": {},
   "outputs": [
    {
     "data": {
      "text/plain": [
       "0.55875"
      ]
     },
     "execution_count": 7,
     "metadata": {},
     "output_type": "execute_result"
    }
   ],
   "source": [
    "#Intialize final Logistic Regression Model\n",
    "log_title_final = LogisticRegression(C=0.359, penalty='l2')\n",
    "#Fit model\n",
    "log_title_final.fit(X_title_train, y_title_train)\n",
    "#Get roc_auc score and save predictions for later\n",
    "log_title_preds = log_title_final.predict_proba(X_title_test)\n",
    "roc_auc_score(y_title_test, log_title_preds[:, 1])"
   ]
  },
  {
   "cell_type": "code",
   "execution_count": 8,
   "id": "885423bc",
   "metadata": {},
   "outputs": [
    {
     "name": "stdout",
     "output_type": "stream",
     "text": [
      "Best parameter for n_neighbors is {'C': 0.005994842503189409, 'penalty': 'l2'}\n",
      "Scoring 0.6237225483991814\n"
     ]
    }
   ],
   "source": [
    "#Intialize model\n",
    "log_text = LogisticRegression(solver='newton-cg')\n",
    "#Intialize a gridsearch object\n",
    "log_text_gs = GridSearchCV(log_text, param_grid, cv=5, scoring='roc_auc')\n",
    "#Fit the gridsearch object\n",
    "log_text_gs.fit(X_text_train, y_text_train)\n",
    "#Print out best hyperparameters\n",
    "print('Best parameter for n_neighbors is {}'.format(log_text_gs.best_params_))\n",
    "print('Scoring {}'.format(log_text_gs.best_score_))"
   ]
  },
  {
   "cell_type": "code",
   "execution_count": 9,
   "id": "726eb092",
   "metadata": {},
   "outputs": [
    {
     "data": {
      "text/plain": [
       "0.5941287878787879"
      ]
     },
     "execution_count": 9,
     "metadata": {},
     "output_type": "execute_result"
    }
   ],
   "source": [
    "#Intialize final Logistic Regression Model\n",
    "log_text_final = LogisticRegression(C=0.00599, penalty='l2')\n",
    "#Fit model\n",
    "log_text_final.fit(X_text_train, y_text_train)\n",
    "#Get roc_auc score and save predictions for later\n",
    "log_text_preds = log_text_final.predict_proba(X_text_test)\n",
    "roc_auc_score(y_text_test, log_text_preds[:, 1])"
   ]
  },
  {
   "cell_type": "markdown",
   "id": "a18dc688",
   "metadata": {},
   "source": [
    "#### Random Forest Classifier <a name=\"section4\"></a>"
   ]
  },
  {
   "cell_type": "code",
   "execution_count": 11,
   "id": "c8a6df63",
   "metadata": {},
   "outputs": [
    {
     "name": "stdout",
     "output_type": "stream",
     "text": [
      "Best parameter for n_neighbors is {'max_depth': 3, 'max_features': 'log2', 'n_estimators': 200}\n",
      "Scoring 0.6168360069961466\n"
     ]
    }
   ],
   "source": [
    "#Intialize model for gridsearching\n",
    "tree_title = RandomForestClassifier(random_state=10)\n",
    "#Intialize parameter grid\n",
    "param_grid = { \n",
    "    'n_estimators': [10, 100, 200, 500, 1000],\n",
    "    'max_features': ['auto', 'sqrt', 'log2'],\n",
    "    'max_depth' : [1,3,5,7,9],\n",
    "}\n",
    "#Gridsearch model\n",
    "tree_title_gs = GridSearchCV(tree_title, param_grid, cv=5, scoring='roc_auc')\n",
    "tree_title_gs.fit(X_title_train, y_title_train)\n",
    "#Get results from grid searching\n",
    "print('Best parameter for n_neighbors is {}'.format(tree_title_gs.best_params_))\n",
    "print('Scoring {}'.format(tree_title_gs.best_score_))"
   ]
  },
  {
   "cell_type": "code",
   "execution_count": 12,
   "id": "c9baf088",
   "metadata": {},
   "outputs": [
    {
     "data": {
      "text/plain": [
       "0.5502462121212119"
      ]
     },
     "execution_count": 12,
     "metadata": {},
     "output_type": "execute_result"
    }
   ],
   "source": [
    "#Creat final tree based on gridsearch parameters\n",
    "tree_title_final = RandomForestClassifier(max_features='log2', max_depth=3, n_estimators=200)\n",
    "tree_title_final.fit(X_title_train, y_title_train)\n",
    "#Get roc_auc score and save predictions for later\n",
    "title_tree_preds = tree_title_final.predict_proba(X_title_test)\n",
    "roc_auc_score(y_title_test, title_tree_preds[:, 1])"
   ]
  },
  {
   "cell_type": "code",
   "execution_count": 13,
   "id": "06b3a232",
   "metadata": {},
   "outputs": [
    {
     "name": "stdout",
     "output_type": "stream",
     "text": [
      "Best parameter for n_neighbors is {'max_depth': 5, 'max_features': 'log2', 'n_estimators': 100}\n",
      "Scoring 0.5537078677487994\n"
     ]
    }
   ],
   "source": [
    "#Intialize model for gridsearching\n",
    "tree_text = RandomForestClassifier(random_state=10)\n",
    "#Gridsearch model using same param_grid as above\n",
    "tree_text_gs = GridSearchCV(tree_text, param_grid, cv=5, scoring='roc_auc')\n",
    "tree_text_gs.fit(X_text_train, y_text_train)\n",
    "#Get results from grid searching\n",
    "print('Best parameter for n_neighbors is {}'.format(tree_text_gs.best_params_))\n",
    "print('Scoring {}'.format(tree_text_gs.best_score_))"
   ]
  },
  {
   "cell_type": "code",
   "execution_count": 14,
   "id": "3a2d3587",
   "metadata": {},
   "outputs": [
    {
     "data": {
      "text/plain": [
       "0.5877462121212121"
      ]
     },
     "execution_count": 14,
     "metadata": {},
     "output_type": "execute_result"
    }
   ],
   "source": [
    "#Creat final tree based on gridsearch parameters\n",
    "tree_text_final = RandomForestClassifier(max_features='log2', max_depth=5, n_estimators=100)\n",
    "tree_text_final.fit(X_text_train, y_text_train)\n",
    "#Get roc_auc score and save predictions for later\n",
    "text_tree_preds = tree_text_final.predict_proba(X_text_test)\n",
    "roc_auc_score(y_text_test, text_tree_preds[:, 1])"
   ]
  },
  {
   "cell_type": "markdown",
   "id": "da225fea",
   "metadata": {},
   "source": [
    "#### MLP Classifier <a name=\"section5\"></a>"
   ]
  },
  {
   "cell_type": "code",
   "execution_count": 15,
   "id": "e9f389a2",
   "metadata": {},
   "outputs": [
    {
     "name": "stdout",
     "output_type": "stream",
     "text": [
      "Best parameter for n_neighbors is {'activation': 'relu', 'alpha': 0.05, 'hidden_layer_sizes': (100,), 'learning_rate': 'constant', 'solver': 'adam'}\n",
      "Scoring 0.603532340276527\n"
     ]
    }
   ],
   "source": [
    "#Let's try sklearn's deep learning model to see if we can improve performance\n",
    "title_mlp = MLPClassifier(max_iter=100)\n",
    "#Define a paramter space for the gridsearch\n",
    "parameter_space = {\n",
    "    'hidden_layer_sizes': [(50,50,50), (50,100,50), (100,)],\n",
    "    'activation': ['tanh', 'relu'],\n",
    "    'solver': ['sgd', 'adam'],\n",
    "    'alpha': [0.0001, 0.05],\n",
    "    'learning_rate': ['constant','adaptive'],\n",
    "}\n",
    "#Define gridsearch and fit\n",
    "title_mlp_gs = GridSearchCV(title_mlp, parameter_space, n_jobs=-1, cv=5, scoring='roc_auc')\n",
    "title_mlp_gs.fit(X_title_train, y_title_train)\n",
    "#Print results\n",
    "print('Best parameter for n_neighbors is {}'.format(title_mlp_gs.best_params_))\n",
    "print('Scoring {}'.format(title_mlp_gs.best_score_))"
   ]
  },
  {
   "cell_type": "code",
   "execution_count": 16,
   "id": "086da2b4",
   "metadata": {},
   "outputs": [
    {
     "data": {
      "text/plain": [
       "0.5385227272727272"
      ]
     },
     "execution_count": 16,
     "metadata": {},
     "output_type": "execute_result"
    }
   ],
   "source": [
    "#Create final mlp model\n",
    "title_mlp_final = MLPClassifier(max_iter=100, activation='relu', hidden_layer_sizes=(100,),\n",
    "                               learning_rate='adaptive', solver='adam', alpha=0.05)\n",
    "title_mlp_final.fit(X_title_train, y_title_train)\n",
    "#Get roc_auc score and save predictions\n",
    "title_mlp_preds = title_mlp_final.predict_proba(X_title_test)\n",
    "roc_auc_score(y_title_test, title_mlp_preds[:, 1])"
   ]
  },
  {
   "cell_type": "code",
   "execution_count": 17,
   "id": "ab8d2eb0",
   "metadata": {},
   "outputs": [
    {
     "name": "stdout",
     "output_type": "stream",
     "text": [
      "Best parameter for n_neighbors is {'activation': 'relu', 'alpha': 0.0001, 'hidden_layer_sizes': (100,), 'learning_rate': 'adaptive', 'solver': 'sgd'}\n",
      "Scoring 0.63199859060045\n"
     ]
    }
   ],
   "source": [
    "#Let's now do the same mlp model but for the text data\n",
    "text_mlp = MLPClassifier(max_iter=100)\n",
    "#Define gridsearch and fit. Use same parameter_space as above. \n",
    "text_mlp_gs = GridSearchCV(text_mlp, parameter_space, n_jobs=-1, cv=5, scoring='roc_auc')\n",
    "text_mlp_gs.fit(X_text_train, y_text_train)\n",
    "#Print results\n",
    "print('Best parameter for n_neighbors is {}'.format(text_mlp_gs.best_params_))\n",
    "print('Scoring {}'.format(text_mlp_gs.best_score_))"
   ]
  },
  {
   "cell_type": "code",
   "execution_count": 18,
   "id": "09ca6639",
   "metadata": {},
   "outputs": [
    {
     "data": {
      "text/plain": [
       "0.5970833333333334"
      ]
     },
     "execution_count": 18,
     "metadata": {},
     "output_type": "execute_result"
    }
   ],
   "source": [
    "#Create final mlp model\n",
    "text_mlp_final = MLPClassifier(max_iter=100, activation='relu', hidden_layer_sizes=(100,),\n",
    "                               learning_rate='constant', solver='sgd', alpha=0.0001)\n",
    "text_mlp_final.fit(X_text_train, y_text_train)\n",
    "#Get roc_auc score and save predictions\n",
    "text_mlp_preds = text_mlp_final.predict_proba(X_text_test)\n",
    "roc_auc_score(y_text_test, text_mlp_preds[:, 1])"
   ]
  },
  {
   "cell_type": "markdown",
   "id": "9a11685b",
   "metadata": {},
   "source": [
    "### ROC Curves <a name=\"section6\"></a>\n",
    "In order to compare our models visualy, a roc plot is made for both the title models and the text models. "
   ]
  },
  {
   "cell_type": "code",
   "execution_count": 19,
   "id": "fcf2f214",
   "metadata": {},
   "outputs": [
    {
     "data": {
      "text/plain": [
       "Text(0.5, 1.0, 'ROC curves of title models')"
      ]
     },
     "execution_count": 19,
     "metadata": {},
     "output_type": "execute_result"
    },
    {
     "data": {
      "image/png": "[encoded data removed]",
      "text/plain": [
       "<Figure size 504x360 with 1 Axes>"
      ]
     },
     "metadata": {},
     "output_type": "display_data"
    }
   ],
   "source": [
    "#Let's compare the three title models with an roc curve\n",
    "from sklearn.metrics import plot_roc_curve\n",
    "disp = plot_roc_curve(log_title_final, X_title_test, y_title_test)\n",
    "plot_roc_curve(tree_title_final,  X_title_test, y_title_test, ax=disp.ax_)\n",
    "plot_roc_curve(title_mlp_final,  X_title_test, y_title_test, ax=disp.ax_)\n",
    "plt.title('ROC curves of title models')"
   ]
  },
  {
   "cell_type": "code",
   "execution_count": 20,
   "id": "d050022f",
   "metadata": {},
   "outputs": [
    {
     "data": {
      "text/plain": [
       "Text(0.5, 1.0, 'ROC curves of text models')"
      ]
     },
     "execution_count": 20,
     "metadata": {},
     "output_type": "execute_result"
    },
    {
     "data": {
      "image/png": "[encoded data removed]",
      "text/plain": [
       "<Figure size 504x360 with 1 Axes>"
      ]
     },
     "metadata": {},
     "output_type": "display_data"
    }
   ],
   "source": [
    "#Do the same but for the text models now\n",
    "disp = plot_roc_curve(log_text_final, X_text_test, y_text_test)\n",
    "plot_roc_curve(tree_text_final,  X_text_test, y_text_test, ax=disp.ax_)\n",
    "plot_roc_curve(text_mlp_final,  X_text_test, y_text_test, ax=disp.ax_)\n",
    "plt.title('ROC curves of text models')"
   ]
  },
  {
   "cell_type": "markdown",
   "id": "19973050",
   "metadata": {},
   "source": [
    "This section was used to turn the data into a file so that a bot could be trained on the data."
   ]
  },
  {
   "cell_type": "code",
   "execution_count": null,
   "id": "de554125",
   "metadata": {},
   "outputs": [],
   "source": [
    "#For our chat bot, we need to create a text file of post titles, text bodies and comments.\n",
    "#Create an empty string to write to\n",
    "text = \"\"\n",
    "#Make copies of df's to make code easier to read\n",
    "post_df = comment_puller.post_df.copy()\n",
    "comment_df = comment_puller.comment_df.copy()\n",
    "#Get post for specific post_id\n",
    "for post_id in post_df['post_id']:\n",
    "    #Retrieve the post and write the title text and body text\n",
    "    post = post_df[post_df['post_id']==post_id]\n",
    "    text += post['title'].values[0] + '\\n'\n",
    "    text += post['post_text'].values[0] + '\\n'\n",
    "    #Get the top ten comments of post saved in comment_df\n",
    "    comments = comment_df[comment_df['post_id'].isin([post_id])]\n",
    "    #Write them to the text string\n",
    "    for comment in comments['comment']:\n",
    "        text += comment + '/n'\n",
    "    #Write the titles, text bodies and comments to our file\n",
    "    f.write(text)\n",
    "    #Reset text\n",
    "    text = \"\""
   ]
  },
  {
   "cell_type": "code",
   "execution_count": null,
   "id": "9a237dcf",
   "metadata": {},
   "outputs": [],
   "source": [
    "f.close()"
   ]
  }
 ],
 "metadata": {
  "kernelspec": {
   "display_name": "Python 3",
   "language": "python",
   "name": "python3"
  },
  "language_info": {
   "codemirror_mode": {
    "name": "ipython",
    "version": 3
   },
   "file_extension": ".py",
   "mimetype": "text/x-python",
   "name": "python",
   "nbconvert_exporter": "python",
   "pygments_lexer": "ipython3",
   "version": "3.8.8"
  }
 },
 "nbformat": 4,
 "nbformat_minor": 5
}
